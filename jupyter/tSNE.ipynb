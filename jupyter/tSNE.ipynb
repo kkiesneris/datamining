{
 "cells": [
  {
   "cell_type": "code",
   "execution_count": null,
   "id": "5e339793-0cbb-4642-8381-12228f083f8d",
   "metadata": {},
   "outputs": [],
   "source": [
    "import pandas as pd\n",
    "from dm_lib import load_dataframe_from_disk\n",
    "from dm_lib import column_str, attributes, create_dataframe_from_columns, undersample_data, oversample_with_smote\n",
    "from sklearn.manifold import TSNE\n",
    "import matplotlib.pyplot as plt\n",
    "from sklearn.preprocessing import StandardScaler\n",
    "\n",
    "def apply_tsne(df, title, fraud_column, filename=None, perplexity=30):\n",
    "    features = df.drop(fraud_column, axis=1)\n",
    "    labels = df[fraud_column]\n",
    "\n",
    "    tsne = TSNE(n_components=2, perplexity=perplexity, random_state=42)\n",
    "    tsne_results = tsne.fit_transform(features)\n",
    "\n",
    "    plt.figure(figsize=(10, 8))\n",
    "    for label, color in zip([0, 1], ['tab:blue', 'tab:orange']):\n",
    "        mask = labels == label\n",
    "        plt.scatter(tsne_results[mask, 0], tsne_results[mask, 1], c=color, alpha=0.5, label=('Īsta transackija' if label == 0 else 'Krāpnieciska transakcija'))\n",
    "\n",
    "    plt.title(title, fontsize=20)\n",
    "    plt.legend()\n",
    "    plt.xlabel('t-SNE komponente 1')\n",
    "    plt.ylabel('t-SNE komponente 2')\n",
    "\n",
    "    if filename:\n",
    "        plt.savefig(filename)\n",
    "        plt.close()\n",
    "    else:\n",
    "        plt.show()\n",
    "\n",
    "for setName in ('B'):#'A','B'\n",
    "    df = load_dataframe_from_disk('dataSet_'+setName+'.pkl')\n",
    "    for entry in attributes:\n",
    "        if entry['name'] not in ('firsttime'):\n",
    "            continue\n",
    "        for type in ('o','u',''):\n",
    "            column_list = entry['value'][:]\n",
    "            column_list.insert(0, 'fraud')\n",
    "            source_df = create_dataframe_from_columns(df, column_list)\n",
    "            if type == 'o':\n",
    "                tsne_df = oversample_with_smote(source_df, 'fraud')\n",
    "            elif type == 'u':\n",
    "                tsne_df = undersample_data(source_df, 'fraud', desired_ratio=1)\n",
    "            else:\n",
    "                tsne_df = source_df\n",
    "            #for p in [1,10,20,30,40,50,60,70,80,90,100]:\n",
    "            for p in (5,30,50,100):\n",
    "                f = 'tSNE/tSNE_'+entry['name']+'_p'+str(p)+'_set_'+setName+type+'.png'\n",
    "                title = 'Datu kopa: '+setName+type+', atribūtu kopa:'+entry['name']+', perplexity:'+str(p)\n",
    "                apply_tsne(tsne_df,title,'fraud',filename=f,perplexity = p)\n"
   ]
  }
 ],
 "metadata": {
  "kernelspec": {
   "display_name": "Python 3 (ipykernel)",
   "language": "python",
   "name": "python3"
  },
  "language_info": {
   "codemirror_mode": {
    "name": "ipython",
    "version": 3
   },
   "file_extension": ".py",
   "mimetype": "text/x-python",
   "name": "python",
   "nbconvert_exporter": "python",
   "pygments_lexer": "ipython3",
   "version": "3.11.5"
  }
 },
 "nbformat": 4,
 "nbformat_minor": 5
}
