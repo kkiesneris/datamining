{
 "cells": [
  {
   "cell_type": "code",
   "execution_count": null,
   "id": "d5cd3828-5e87-4900-820a-6c270455c966",
   "metadata": {},
   "outputs": [],
   "source": [
    "import pandas as pd\n",
    "import seaborn as sns\n",
    "import matplotlib.pyplot as plt\n",
    "import numpy as np\n",
    "from dm_lib import column_str, attributes, create_dataframe_from_columns, load_dataframe_from_disk\n",
    "\n",
    "def create_correlation_matrix(df, filename, show_plot=False):\n",
    "    corr = df.corr()\n",
    "    plt.figure(figsize=(10, 8))\n",
    "    sns.heatmap(corr, annot=True, fmt=\".2f\", cmap='coolwarm', square=True, linewidths=.5)\n",
    "    plt.tight_layout()\n",
    "    if show_plot:\n",
    "        plt.show()\n",
    "    plt.savefig(filename)\n",
    "    plt.close()\n",
    "\n",
    "df = load_dataframe_from_disk('dataSet_B.pkl')\n",
    "for entry in attributes:\n",
    "    if(entry['type'] == 'aggregated'):\n",
    "        column_list = entry['value'][:]\n",
    "        column_list.insert(0, 'fraud')\n",
    "        cor_df = create_dataframe_from_columns(df,column_list)\n",
    "        filename = \"correlation/corr_%s.png\"%(entry['name'],)\n",
    "        create_correlation_matrix(cor_df,filename,show_plot=True)"
   ]
  }
 ],
 "metadata": {
  "kernelspec": {
   "display_name": "Python 3 (ipykernel)",
   "language": "python",
   "name": "python3"
  },
  "language_info": {
   "codemirror_mode": {
    "name": "ipython",
    "version": 3
   },
   "file_extension": ".py",
   "mimetype": "text/x-python",
   "name": "python",
   "nbconvert_exporter": "python",
   "pygments_lexer": "ipython3",
   "version": "3.11.5"
  }
 },
 "nbformat": 4,
 "nbformat_minor": 5
}
